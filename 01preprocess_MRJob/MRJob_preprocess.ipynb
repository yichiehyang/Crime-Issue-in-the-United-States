{
 "cells": [
  {
   "cell_type": "code",
   "execution_count": 22,
   "id": "d5dc85cd",
   "metadata": {},
   "outputs": [
    {
     "name": "stdout",
     "output_type": "stream",
     "text": [
      "Overwriting project1.py\n"
     ]
    }
   ],
   "source": [
    "%%file project1.py\n",
    "import mrjob\n",
    "from mrjob.job import MRJob\n",
    "class MRCrimeSort(MRJob):\n",
    "    def mapper(self, _, line):\n",
    "        data_list = line.split(',')\n",
    "        county=data_list[0][1:]\n",
    "        state=data_list[1][-2:]\n",
    "        crime_rate=data_list[2]\n",
    "        yield(county,crime_rate)\n",
    "        \n",
    "if __name__ == '__main__':\n",
    "    MRCrimeSort.run() "
   ]
  },
  {
   "cell_type": "code",
   "execution_count": 23,
   "id": "92956018",
   "metadata": {},
   "outputs": [
    {
     "name": "stdout",
     "output_type": "stream",
     "text": [
      "No configs found; falling back on auto-configuration\n",
      "No configs specified for local runner\n",
      "Creating temp directory /var/folders/dd/15csrxdn2rscsl__0456fnrm0000gn/T/project1.yangyichieh.20211025.205138.108592\n",
      "Running step 1 of 1...\n",
      "job output is in crime_output\n",
      "Removing temp directory /var/folders/dd/15csrxdn2rscsl__0456fnrm0000gn/T/project1.yangyichieh.20211025.205138.108592...\n"
     ]
    }
   ],
   "source": [
    "!python project1.py -r local crime_rate.csv --output-dir=crime_output --no-output"
   ]
  },
  {
   "cell_type": "code",
   "execution_count": 265,
   "id": "9b140f51",
   "metadata": {},
   "outputs": [
    {
     "name": "stdout",
     "output_type": "stream",
     "text": [
      "Overwriting crime_rate.py\n"
     ]
    }
   ],
   "source": [
    "%%file crime_rate.py\n",
    "import mrjob\n",
    "from mrjob.job import MRJob\n",
    "class crime_rate(MRJob):\n",
    "    \n",
    "    def mapper(self, _, line):\n",
    "        data_list = line.split(',')\n",
    "        county=data_list[0][1:]\n",
    "        state=data_list[1][1:3]\n",
    "        crime_rate=data_list[2]\n",
    "        population = data_list[22]\n",
    "        if population!=\"FIPS_ST\":\n",
    "            crime_pop = int(population)*float(crime_rate)/100000\n",
    "            yield(state, (crime_pop,int(population)))\n",
    "    def reducer(self,key,counts):\n",
    "        count = list(counts)\n",
    "        crime_pop=0\n",
    "        population=0\n",
    "        for c in count:\n",
    "            crime_pop+=c[0]\n",
    "            population+=c[1]\n",
    "        result = crime_pop/population\n",
    "        yield(key, result)\n",
    "\n",
    "      \n",
    "    \n",
    "if __name__ == '__main__':\n",
    "    crime_rate.run()"
   ]
  },
  {
   "cell_type": "code",
   "execution_count": 266,
   "id": "001cbae8",
   "metadata": {},
   "outputs": [
    {
     "name": "stdout",
     "output_type": "stream",
     "text": [
      "No configs found; falling back on auto-configuration\n",
      "No configs specified for local runner\n",
      "Creating temp directory /var/folders/dd/15csrxdn2rscsl__0456fnrm0000gn/T/crime_rate.yangyichieh.20211026.062232.847143\n",
      "Running step 1 of 1...\n",
      "job output is in crime_output\n",
      "Removing temp directory /var/folders/dd/15csrxdn2rscsl__0456fnrm0000gn/T/crime_rate.yangyichieh.20211026.062232.847143...\n"
     ]
    }
   ],
   "source": [
    "!python crime_rate.py -r local crime_rate.csv --output-dir=crime_output --no-output"
   ]
  },
  {
   "cell_type": "code",
   "execution_count": 13,
   "id": "ef66ec5b",
   "metadata": {},
   "outputs": [
    {
     "name": "stdout",
     "output_type": "stream",
     "text": [
      "Overwriting education.py\n"
     ]
    }
   ],
   "source": [
    "%%file education.py\n",
    "import mrjob\n",
    "from mrjob.job import MRJob\n",
    "class education(MRJob):\n",
    "    \n",
    "    def mapper(self, _, line):\n",
    "        data_list=line.split(\"\\t\")\n",
    "        state=data_list[1]\n",
    "        ELevel_pop=data_list[32]\n",
    "        ELevel=data_list[36]\n",
    "        if ELevel!=\"\" and ELevel!='\"Percent of adults with less than a high school diploma, 2000\"'\\\n",
    "            and ELevel_pop!=\"\" and ELevel_pop!='\"Less than a high school diploma, 2000\"':\n",
    "            ELevel=float(data_list[36])\n",
    "            if len(ELevel_pop)>3:\n",
    "                ELevel_pop=data_list[32][1:-1]\n",
    "                ELevel_pop = ELevel_pop.replace(\",\",\"\")\n",
    "            else:\n",
    "                ELevel_pop=data_list[32]\n",
    "            ELevel_pop = int(ELevel_pop)\n",
    "            #population = ELevel_pop*100/ELevel\n",
    "            yield(state, (ELevel_pop,ELevel))\n",
    "\n",
    "    def reducer(self, key, counts):\n",
    "        count = list(counts)\n",
    "        \n",
    "        ELevel_pop=0        \n",
    "        pop=0\n",
    "        for c in count:\n",
    "            pop += ((c[0]*100)/c[1])\n",
    "            ELevel_pop+=c[0]\n",
    "        yield(key,ELevel_pop/pop)\n",
    "        \n",
    "        \n",
    "\"\"\"    \n",
    "    def combiner(self, key, counts):\n",
    "        count = list(counts)\n",
    "        ELevel_pop=0\n",
    "        ELevel=0\n",
    "        for c in count:\n",
    "            ELevel_pop+=c[0]\n",
    "            population+=c[1]\n",
    "        \n",
    "        yield(key,(ELevel_pop,population))\n",
    "    def reducer(self,key,counts):\n",
    "        count = list(counts)\n",
    "        ELevel_pop=0\n",
    "        population=0\n",
    "        for c in count:\n",
    "            ELevel_pop+=c[0]\n",
    "            population+=c[1]\n",
    "        result =ELevel_pop/population\n",
    "        yield(key, result)\n",
    "    \n",
    "        #if ELevel_pop!=\"Less than a high school diploma, 2015-19\":\n",
    "         #   all_pop = int(ELevel_pop)*100/float(ELevel)\n",
    "            #yield(state, (all_pop,int(ELevel_pop)))\n",
    "        #yield (ELevel, ELevel_pop)\n",
    "    \n",
    "\"\"\"       \n",
    "    \n",
    "if __name__ == '__main__':\n",
    "    education.run()"
   ]
  },
  {
   "cell_type": "code",
   "execution_count": 14,
   "id": "b9c3e993",
   "metadata": {},
   "outputs": [
    {
     "name": "stdout",
     "output_type": "stream",
     "text": [
      "No configs found; falling back on auto-configuration\n",
      "No configs specified for local runner\n",
      "Creating temp directory /var/folders/dd/15csrxdn2rscsl__0456fnrm0000gn/T/education.yangyichieh.20211026.210342.281921\n",
      "Running step 1 of 1...\n",
      "job output is in output\n",
      "Removing temp directory /var/folders/dd/15csrxdn2rscsl__0456fnrm0000gn/T/education.yangyichieh.20211026.210342.281921...\n"
     ]
    }
   ],
   "source": [
    "!python education.py -r local education.txt --output-dir=output --no-output"
   ]
  },
  {
   "cell_type": "code",
   "execution_count": null,
   "id": "b4b54b03",
   "metadata": {},
   "outputs": [],
   "source": []
  }
 ],
 "metadata": {
  "kernelspec": {
   "display_name": "Python 3",
   "language": "python",
   "name": "python3"
  },
  "language_info": {
   "codemirror_mode": {
    "name": "ipython",
    "version": 3
   },
   "file_extension": ".py",
   "mimetype": "text/x-python",
   "name": "python",
   "nbconvert_exporter": "python",
   "pygments_lexer": "ipython3",
   "version": "3.8.8"
  }
 },
 "nbformat": 4,
 "nbformat_minor": 5
}
